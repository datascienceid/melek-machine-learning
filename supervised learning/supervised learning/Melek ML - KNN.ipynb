{
 "cells": [
  {
   "cell_type": "markdown",
   "metadata": {},
   "source": [
    "# K-Nearest Neighbor"
   ]
  },
  {
   "cell_type": "markdown",
   "metadata": {},
   "source": [
    "## Scratch"
   ]
  },
  {
   "cell_type": "markdown",
   "metadata": {},
   "source": [
    "### Distance"
   ]
  },
  {
   "cell_type": "code",
   "execution_count": null,
   "metadata": {
    "collapsed": true,
    "scrolled": true
   },
   "outputs": [],
   "source": [
    "from IPython.core.interactiveshell import InteractiveShell\n",
    "InteractiveShell.ast_node_interactivity = \"all\"\n",
    "\n",
    "def vector_subtract(v, w):\n",
    "    \"\"\"subtracts two vectors componentwise\"\"\"\n",
    "    return [v_i - w_i for v_i, w_i in zip(v,w)]\n",
    "\n",
    "def dot(v, w):\n",
    "    \"\"\"v_1 * w_1 + ... + v_n * w_n\"\"\"\n",
    "    return sum(v_i * w_i for v_i, w_i in zip(v, w))\n",
    "\n",
    "def sum_of_squares(v):\n",
    "    \"\"\"v_1 * v_1 + ... + v_n * v_n\"\"\"\n",
    "    return dot(v, v)\n",
    "\n",
    "def squared_distance(v, w):\n",
    "    return sum_of_squares(vector_subtract(v, w))\n",
    "\n",
    "def distance(v, w):\n",
    "    return math.sqrt(squared_distance(v, w))\n",
    "\n",
    "def mean(x):\n",
    "    return sum(x) / len(x)"
   ]
  },
  {
   "cell_type": "markdown",
   "metadata": {},
   "source": [
    "## Wrap up"
   ]
  },
  {
   "cell_type": "code",
   "execution_count": null,
   "metadata": {
    "collapsed": true,
    "scrolled": true
   },
   "outputs": [],
   "source": [
    "from collections import Counter\n",
    "# from linear_algebra import distance\n",
    "# from stats import mean\n",
    "import math, random\n",
    "import matplotlib.pyplot as plt\n",
    "\n",
    "def raw_majority_vote(labels):\n",
    "    votes = Counter(labels)\n",
    "    winner, _ = votes.most_common(1)[0]\n",
    "    return winner\n",
    "\n",
    "def majority_vote(labels):\n",
    "    \"\"\"assumes that labels are ordered from nearest to farthest\"\"\"\n",
    "    vote_counts = Counter(labels)\n",
    "    winner, winner_count = vote_counts.most_common(1)[0]\n",
    "    num_winners = len([count\n",
    "                       for count in vote_counts.values()\n",
    "                       if count == winner_count])\n",
    "\n",
    "    if num_winners == 1:\n",
    "        return winner                     # unique winner, so return it\n",
    "    else:\n",
    "        return majority_vote(labels[:-1]) # try again without the farthest\n",
    "    \n",
    "def knn_classify(k, labeled_points, new_point):\n",
    "    \"\"\"each labeled point should be a pair (point, label)\"\"\"\n",
    "\n",
    "    # order the labeled points from nearest to farthest\n",
    "    by_distance = sorted(labeled_points,\n",
    "                         key=lambda point_label: distance(point_label[0], new_point))\n",
    "\n",
    "    # find the labels for the k closest\n",
    "    k_nearest_labels = [label for _, label in by_distance[:k]]\n",
    "\n",
    "    # and let them vote\n",
    "    return majority_vote(k_nearest_labels)\n",
    "\n",
    "cities = [(-86.75,33.56,'Python'),(-88.25,30.68,'Python'),\n",
    "          (-112.01,33.43,'Java'),(-110.93,32.11,'Java'),\n",
    "          (-92.23,34.73,'R'),(-121.95,37.7,'R'),\n",
    "          (-118.15,33.81,'Python'),(-118.23,34.05,'Java'),\n",
    "          (-122.31,37.81,'R'),(-117.6,34.05,'Python'),\n",
    "          (-116.53,33.81,'Python'),(-121.5,38.51,'R'),\n",
    "          (-117.16,32.73,'R'),(-122.38,37.61,'R'),\n",
    "          (-121.93,37.36,'R'),(-122.01,36.98,'Python'),\n",
    "          (-104.71,38.81,'Python'),(-104.86,39.75,'Python'),\n",
    "          (-72.65,41.73,'R'),(-75.6,39.66,'Python'),\n",
    "          (-77.03,38.85,'Python'),(-80.26,25.8,'Java'),\n",
    "          (-81.38,28.55,'Java'),(-82.53,27.96,'Java'),\n",
    "          (-84.43,33.65,'Python'),(-116.21,43.56,'Python'),\n",
    "          (-87.75,41.78,'Java'),(-86.28,39.73,'Java'),\n",
    "          (-93.65,41.53,'Java'),(-97.41,37.65,'Java'),\n",
    "          (-85.73,38.18,'Python'),(-90.25,29.98,'Java'),\n",
    "          (-70.31,43.65,'R'),(-76.66,39.18,'R'),\n",
    "          (-71.03,42.36,'R'),(-72.53,42.2,'R'),\n",
    "          (-83.01,42.41,'Python'),(-84.6,42.78,'Python'),\n",
    "          (-93.21,44.88,'Python'),(-90.08,32.31,'Java'),\n",
    "          (-94.58,39.11,'Java'),(-90.38,38.75,'Python'),\n",
    "          (-108.53,45.8,'Python'),(-95.9,41.3,'Python'),\n",
    "          (-115.16,36.08,'Java'),(-71.43,42.93,'R'),\n",
    "          (-74.16,40.7,'R'),(-106.61,35.05,'Python'),\n",
    "          (-78.73,42.93,'R'),(-73.96,40.78,'R'),\n",
    "          (-80.93,35.21,'Python'),(-78.78,35.86,'Python'),\n",
    "          (-100.75,46.76,'Java'),(-84.51,39.15,'Java'),\n",
    "          (-81.85,41.4,'Java'),(-82.88,40,'Java'),\n",
    "          (-97.60,35.40,'Python'),(-122.66,45.53,'Python'),\n",
    "          (-75.25,39.88,'Python'),(-80.21,40.50,'Python'),\n",
    "          (-71.43,41.73,'R'),(-81.11,33.95,'R'),\n",
    "          (-96.73,43.56,'Python'),(-90.00,35.05,'R'),\n",
    "          (-86.68,36.11,'R'),(-97.70,30.30,'Python'),\n",
    "          (-96.85,32.85,'Java'),(-95.35,29.96,'Java'),\n",
    "          (-98.46,29.53,'Java'),(-111.96,40.76,'Python'),\n",
    "          (-73.15,44.46,'R'),(-77.33,37.50,'Python'),\n",
    "          (-122.30,47.53,'Python'),(-89.33,43.13,'R'),\n",
    "          (-104.81,41.15,'Java')]\n",
    "cities = [([longitude, latitude], language) for longitude, latitude, language in cities]"
   ]
  },
  {
   "cell_type": "code",
   "execution_count": null,
   "metadata": {
    "collapsed": true,
    "scrolled": true
   },
   "outputs": [],
   "source": [
    "def plot_state_borders(plt, color='0.8'):\n",
    "    pass\n",
    "\n",
    "def plot_cities():\n",
    "\n",
    "    # key is language, value is pair (longitudes, latitudes)\n",
    "    plots = { \"Java\" : ([], []), \"Python\" : ([], []), \"R\" : ([], []) }\n",
    "\n",
    "    # we want each language to have a different marker and color\n",
    "    markers = { \"Java\" : \"o\", \"Python\" : \"s\", \"R\" : \"^\" }\n",
    "    colors  = { \"Java\" : \"r\", \"Python\" : \"b\", \"R\" : \"g\" }\n",
    "\n",
    "    for (longitude, latitude), language in cities:\n",
    "        plots[language][0].append(longitude)\n",
    "        plots[language][1].append(latitude)\n",
    "\n",
    "    # create a scatter series for each language\n",
    "    for language, (x, y) in plots.items():\n",
    "        plt.scatter(x, y, color=colors[language], marker=markers[language],\n",
    "                          label=language, zorder=10)\n",
    "\n",
    "    plot_state_borders(plt)    # assume we have a function that does this\n",
    "\n",
    "    plt.legend(loc=0)          # let matplotlib choose the location\n",
    "    plt.axis([-130,-60,20,55]) # set the axes\n",
    "    plt.title(\"Favorite Programming Languages\")\n",
    "    plt.show()"
   ]
  },
  {
   "cell_type": "code",
   "execution_count": null,
   "metadata": {
    "collapsed": true,
    "scrolled": true
   },
   "outputs": [],
   "source": [
    "def classify_and_plot_grid(k=1):\n",
    "    plots = { \"Java\" : ([], []), \"Python\" : ([], []), \"R\" : ([], []) }\n",
    "    markers = { \"Java\" : \"o\", \"Python\" : \"s\", \"R\" : \"^\" }\n",
    "    colors  = { \"Java\" : \"r\", \"Python\" : \"b\", \"R\" : \"g\" }\n",
    "\n",
    "    for longitude in range(-130, -60):\n",
    "        for latitude in range(20, 55):\n",
    "            predicted_language = knn_classify(k, cities, [longitude, latitude])\n",
    "            plots[predicted_language][0].append(longitude)\n",
    "            plots[predicted_language][1].append(latitude)\n",
    "\n",
    "    # create a scatter series for each language\n",
    "    for language, (x, y) in plots.items():\n",
    "        plt.scatter(x, y, color=colors[language], marker=markers[language],\n",
    "                          label=language, zorder=0)\n",
    "\n",
    "    plot_state_borders(plt, color='black')    # assume we have a function that does this\n",
    "\n",
    "    plt.legend(loc=0)          # let matplotlib choose the location\n",
    "    plt.axis([-130,-60,20,55]) # set the axes\n",
    "    plt.title(str(k) + \"-Nearest Neighbor Programming Languages\")\n",
    "    plt.show()"
   ]
  },
  {
   "cell_type": "code",
   "execution_count": null,
   "metadata": {
    "collapsed": true,
    "scrolled": true
   },
   "outputs": [],
   "source": [
    "#\n",
    "# the curse of dimensionality\n",
    "#\n",
    "\n",
    "def random_point(dim):\n",
    "    return [random.random() for _ in range(dim)]\n",
    "\n",
    "def random_distances(dim, num_pairs):\n",
    "    return [distance(random_point(dim), random_point(dim))\n",
    "            for _ in range(num_pairs)]"
   ]
  },
  {
   "cell_type": "code",
   "execution_count": null,
   "metadata": {
    "collapsed": true,
    "scrolled": true
   },
   "outputs": [],
   "source": [
    "if __name__ == \"__main__\":\n",
    "\n",
    "    # try several different values for k\n",
    "#     for k in [1, 3, 5, 7]:\n",
    "    for k in [1]:\n",
    "        num_correct = 0\n",
    "\n",
    "        for location, actual_language in cities:\n",
    "\n",
    "            other_cities = [other_city for other_city in cities if other_city != (location, actual_language)]\n",
    "            predicted_language = knn_classify(k, other_cities, location)\n",
    "\n",
    "            if predicted_language == actual_language:\n",
    "                num_correct += 1\n",
    "\n",
    "        print(k, \"neighbor[s]:\", num_correct, \"correct out of\", len(cities))\n",
    "\n",
    "    dimensions = range(1, 101, 5)\n",
    "\n",
    "    avg_distances = []\n",
    "    min_distances = []\n",
    "\n",
    "    random.seed(0)\n",
    "    for dim in dimensions:\n",
    "        distances = random_distances(dim, 10000)  # 10,000 random pairs\n",
    "        avg_distances.append(mean(distances))     # track the average\n",
    "        min_distances.append(min(distances))      # track the minimum\n",
    "        print(dim, min(distances), mean(distances), min(distances) / mean(distances))"
   ]
  },
  {
   "cell_type": "markdown",
   "metadata": {},
   "source": [
    "## SKLEARN"
   ]
  },
  {
   "cell_type": "code",
   "execution_count": null,
   "metadata": {
    "collapsed": true,
    "scrolled": true
   },
   "outputs": [],
   "source": [
    "import numpy as np\n",
    "from sklearn import neighbors, datasets"
   ]
  },
  {
   "cell_type": "code",
   "execution_count": null,
   "metadata": {
    "collapsed": true
   },
   "outputs": [],
   "source": [
    "n_neighbors = 15\n",
    "\n",
    "# import some data to play with\n",
    "iris = datasets.load_iris()\n",
    "\n",
    "X = iris.data[:, :2]\n",
    "y = iris.target\n",
    "\n",
    "h = .02  # step size in the mesh\n",
    "\n",
    "for weights in ['distance']:\n",
    "    # we create an instance of Neighbours Classifier and fit the data.\n",
    "#     clf = neighbors.KNeighborsClassifier(n_neighbors, weights=weights)\n",
    "    clf = neighbors.KNeighborsClassifier(n_neighbors)\n",
    "    clf.fit(X, y)\n",
    "    \n",
    "    # Plot the decision boundary. For that, we will assign a color to each\n",
    "    # point in the mesh [x_min, x_max]x[y_min, y_max].\n",
    "    Z = clf.predict(X)\n",
    "    \n",
    "    print(\"result prediction\")\n",
    "    print(Z)\n",
    "    \n",
    "    correctness = 0\n",
    "\n",
    "    for i in range(len(Z)):\n",
    "        if Z[i] == iris.target[i]:\n",
    "            correctness += 1\n",
    "            \n",
    "    print(\"Accuracy: {0:.2f} %\".format(correctness / len(X) * 100))"
   ]
  }
 ],
 "metadata": {
  "kernelspec": {
   "display_name": "Python 3",
   "language": "python",
   "name": "python3"
  },
  "language_info": {
   "codemirror_mode": {
    "name": "ipython",
    "version": 3
   },
   "file_extension": ".py",
   "mimetype": "text/x-python",
   "name": "python",
   "nbconvert_exporter": "python",
   "pygments_lexer": "ipython3",
   "version": "3.6.3"
  }
 },
 "nbformat": 4,
 "nbformat_minor": 2
}
